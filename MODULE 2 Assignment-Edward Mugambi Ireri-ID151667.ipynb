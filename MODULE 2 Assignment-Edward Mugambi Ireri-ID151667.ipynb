{
 "cells": [
  {
   "cell_type": "code",
   "execution_count": 1,
   "id": "f386f2ed-d8bd-481a-82c5-daf0500585d3",
   "metadata": {},
   "outputs": [
    {
     "name": "stdout",
     "output_type": "stream",
     "text": [
      " Bravo! Ireri, Libraries imported successfully.🕺\n"
     ]
    }
   ],
   "source": [
    "# Step 1: Import Libraries\n",
    "import pandas as pd # Handles data analysis and manipulation.\n",
    "import zipfile # Manages ZIP file creation and extraction.\n",
    "import os # Interacts with the file system (paths, directories).\n",
    "\n",
    "print(\" Bravo! Ireri, Libraries imported successfully.🕺\")"
   ]
  },
  {
   "cell_type": "code",
   "execution_count": 2,
   "id": "86bb1b7d-8804-4876-933c-87edd7a37c57",
   "metadata": {},
   "outputs": [
    {
     "name": "stdout",
     "output_type": "stream",
     "text": [
      "Ireri, data imported successfully! 🕺\n"
     ]
    }
   ],
   "source": [
    "# Step 2: Define and Load Salary Data\n",
    "def salary(path):\n",
    "    try:\n",
    "        # Load the data. Add low_memory=False to handle mixed data types warning\n",
    "        df = pd.read_csv(path, low_memory=False)\n",
    "        print(\"Ireri, data imported successfully! 🕺\")\n",
    "        return df\n",
    "    except FileNotFoundError:\n",
    "        print(f\"File {path} not found. Review path and try again!\")\n",
    "        return None\n",
    "\n",
    "# Load the data\n",
    "path = 'Total.csv'\n",
    "df = salary(path)"
   ]
  },
  {
   "cell_type": "code",
   "execution_count": 3,
   "id": "2fd37313-133d-4552-9ccd-b2172272a5db",
   "metadata": {},
   "outputs": [
    {
     "name": "stdout",
     "output_type": "stream",
     "text": [
      "Data information:\n",
      "<class 'pandas.core.frame.DataFrame'>\n",
      "RangeIndex: 312882 entries, 0 to 312881\n",
      "Data columns (total 9 columns):\n",
      " #   Column            Non-Null Count   Dtype  \n",
      "---  ------            --------------   -----  \n",
      " 0   EmployeeName      312882 non-null  object \n",
      " 1   JobTitle          312882 non-null  object \n",
      " 2   BasePay           312882 non-null  object \n",
      " 3   OvertimePay       312882 non-null  object \n",
      " 4   OtherPay          312882 non-null  object \n",
      " 5   Benefits          312882 non-null  object \n",
      " 6   TotalPay          312882 non-null  float64\n",
      " 7   TotalPayBenefits  312882 non-null  float64\n",
      " 8   Year              312882 non-null  int64  \n",
      "dtypes: float64(2), int64(1), object(6)\n",
      "memory usage: 21.5+ MB\n",
      "None\n",
      "\n",
      "Sample data from columns with mixed types:\n",
      "     BasePay OvertimePay   OtherPay      Benefits\n",
      "0  167411.18           0  400184.25  Not Provided\n",
      "1  155966.02   245131.88  137811.38  Not Provided\n",
      "2  212739.13   106088.18    16452.6  Not Provided\n",
      "3      77916    56120.71   198306.9  Not Provided\n",
      "4   134401.6        9737  182234.59  Not Provided\n"
     ]
    }
   ],
   "source": [
    "# Step 3: Data Inspection\n",
    "if df is not None:\n",
    "    print(\"Data information:\")\n",
    "    print(df.info())  # Summary of the DataFrame\n",
    "    print(\"\\nSample data from columns with mixed types:\")\n",
    "    print(df[['BasePay', 'OvertimePay', 'OtherPay', 'Benefits']].head(5))"
   ]
  },
  {
   "cell_type": "code",
   "execution_count": 4,
   "id": "4e6f75d3-42c1-4d05-b180-9e69e7c10869",
   "metadata": {},
   "outputs": [
    {
     "name": "stdout",
     "output_type": "stream",
     "text": [
      "Employee names normalized to title case.\n",
      "Staff function created successfully!🕺\n"
     ]
    }
   ],
   "source": [
    "# Step 4: Normalize Names and Create Employee Function\n",
    "# Ensure consistency by standardizing all names to title case for accurate analysis.\n",
    "\n",
    "def normalize_names(df):\n",
    "    # Convert 'EmployeeName' to title case\n",
    "    df['EmployeeName'] = df['EmployeeName'].str.title()\n",
    "    return df\n",
    "\n",
    "# Normalize Names\n",
    "if df is not None:\n",
    "    df = normalize_names(df)\n",
    "    print(\"Employee names normalized to title case.\")\n",
    "\n",
    "def staff_details(staff_name, staff_dict):\n",
    "    # Get details for a specific staff\n",
    "    details = staff_dict.get(staff_name)\n",
    "    return details\n",
    "\n",
    "print(\"Staff function created successfully!🕺\")"
   ]
  },
  {
   "cell_type": "code",
   "execution_count": 5,
   "id": "f30d8c16-2967-4ce4-be56-f6f976fe0acb",
   "metadata": {},
   "outputs": [
    {
     "name": "stdout",
     "output_type": "stream",
     "text": [
      "Staff data processed and dictionary created.🕺\n"
     ]
    }
   ],
   "source": [
    "# Step 5: Data Processing with Dictionary\n",
    "def process_data(df):\n",
    "    # Handle duplicates\n",
    "    df_unique = df.drop_duplicates(subset='EmployeeName', keep='first')\n",
    "\n",
    "    # Convert DataFrame to dictionary\n",
    "    staff_dict = df_unique.set_index('EmployeeName').to_dict(orient='index')\n",
    "    print(\"Staff data processed and dictionary created.🕺\")\n",
    "    return staff_dict\n",
    "\n",
    "# Process the data\n",
    "if df is not None:\n",
    "    staff_dict = process_data(df)"
   ]
  },
  {
   "cell_type": "code",
   "execution_count": 6,
   "id": "45065494-f325-495f-ac45-0cee0afc61ac",
   "metadata": {},
   "outputs": [
    {
     "name": "stdout",
     "output_type": "stream",
     "text": [
      "Details for Michael S Anderson:\n",
      "{'JobTitle': 'Transit Operator', 'BasePay': '66686.46', 'OvertimePay': '3733.53', 'OtherPay': '687.43', 'Benefits': '32366.75', 'TotalPay': 71107.42, 'TotalPayBenefits': 103474.17, 'Year': 2013}\n"
     ]
    }
   ],
   "source": [
    "# Step 6: Get Staff Details\n",
    "def staff_details(staff_name, staff_dict):\n",
    "    # Get details for a specific staff\n",
    "    details = staff_dict.get(staff_name)\n",
    "    return details\n",
    "\n",
    "# Get details and print them\n",
    "specific_staff_name = 'Michael S Anderson' # NAMES CASE-SENSITIVE Replace with the actual staff name from the 'EmployeeName' column in the Excel file\n",
    "\n",
    "# Get details for the specific staff\n",
    "details = staff_details(specific_staff_name, staff_dict)\n",
    "\n",
    "if details:\n",
    "    print(f\"Details for {specific_staff_name}:\")\n",
    "    print(details)\n",
    "else:\n",
    "    print(f\"No details found for {specific_staff_name}\")"
   ]
  },
  {
   "cell_type": "code",
   "execution_count": 7,
   "id": "b3cb05fb-7036-4958-80d7-7ce38aeb46fe",
   "metadata": {},
   "outputs": [
    {
     "name": "stdout",
     "output_type": "stream",
     "text": [
      "Staff details exported and zipped successfully 🕺💃. File saved as Staff_Profile.zip\n"
     ]
    }
   ],
   "source": [
    "# Step 7: Export Staff Details to ZIP\n",
    "def export_staff_details(staff_name, details):\n",
    "    if details:\n",
    "        # Create a DataFrame from the staff details\n",
    "        df_details = pd.DataFrame([details]).reset_index()\n",
    "        df_details.columns = ['EmployeeName'] + list(df_details.columns[1:])\n",
    "        \n",
    "        # Define file paths\n",
    "        csv_path = f'{staff_name}_details.csv'\n",
    "        zip_path = 'Staff_Profile.zip'\n",
    "        \n",
    "        # Export to CSV\n",
    "        df_details.to_csv(csv_path, index=False)\n",
    "        \n",
    "        # Zip the CSV file\n",
    "        with zipfile.ZipFile(zip_path, 'w') as zipf:\n",
    "            zipf.write(csv_path, os.path.basename(csv_path))\n",
    "        \n",
    "        # Clean up CSV file after zipping\n",
    "        os.remove(csv_path)\n",
    "        \n",
    "        print(f\"Staff details exported and zipped successfully 🕺💃. File saved as {zip_path}\")\n",
    "\n",
    "# Call the export function only if details exist\n",
    "if details:\n",
    "    export_staff_details(specific_staff_name, details)\n"
   ]
  },
  {
   "cell_type": "code",
   "execution_count": null,
   "id": "3de33c77-2cff-4d41-a109-6d792c2626de",
   "metadata": {},
   "outputs": [],
   "source": []
  }
 ],
 "metadata": {
  "kernelspec": {
   "display_name": "Python 3 (ipykernel)",
   "language": "python",
   "name": "python3"
  },
  "language_info": {
   "codemirror_mode": {
    "name": "ipython",
    "version": 3
   },
   "file_extension": ".py",
   "mimetype": "text/x-python",
   "name": "python",
   "nbconvert_exporter": "python",
   "pygments_lexer": "ipython3",
   "version": "3.9.17"
  }
 },
 "nbformat": 4,
 "nbformat_minor": 5
}
